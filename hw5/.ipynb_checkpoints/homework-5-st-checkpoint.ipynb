{
 "cells": [
  {
   "cell_type": "markdown",
   "metadata": {},
   "source": [
    "# Домашнее задание 5. Линейные модели"
   ]
  },
  {
   "cell_type": "code",
   "execution_count": 9,
   "metadata": {
    "collapsed": false
   },
   "outputs": [
    {
     "name": "stdout",
     "output_type": "stream",
     "text": [
      "Populating the interactive namespace from numpy and matplotlib\n"
     ]
    }
   ],
   "source": [
    "import random as pr\n",
    "import numpy as np\n",
    "import pandas as pd\n",
    "import matplotlib.pylab as pl\n",
    "import sklearn.cross_validation as cv\n",
    "import sklearn.metrics as sm\n",
    "\n",
    "# Plotting config\n",
    "%pylab inline"
   ]
  },
  {
   "cell_type": "code",
   "execution_count": 10,
   "metadata": {
    "collapsed": true
   },
   "outputs": [],
   "source": [
    "from sklearn.preprocessing import normalize"
   ]
  },
  {
   "cell_type": "markdown",
   "metadata": {},
   "source": [
    "Зачитываем результат 4 домашки"
   ]
  },
  {
   "cell_type": "code",
   "execution_count": 11,
   "metadata": {
    "collapsed": false,
    "scrolled": true
   },
   "outputs": [],
   "source": [
    "data = np.load(\"out_4.dat.npz\")\n",
    "users = data[\"users\"]\n",
    "X_dataset = data[\"data\"].reshape(1,)[0]"
   ]
  },
  {
   "cell_type": "markdown",
   "metadata": {},
   "source": [
    "Зачитываем категории пользователей"
   ]
  },
  {
   "cell_type": "code",
   "execution_count": 12,
   "metadata": {
    "collapsed": false
   },
   "outputs": [],
   "source": [
    "TRAINING_SET_URL = \"twitter_train.txt\"\n",
    "EXAMPLE_SET_URL = \"twitter_example.txt\"\n",
    "df_users_train = pd.read_csv(TRAINING_SET_URL, sep=\",\", header=0)\n",
    "df_users_ex = pd.read_csv(EXAMPLE_SET_URL, sep=\",\", header=0)\n",
    "df_users_ex['cat'] = None\n",
    "df_users = pd.concat([df_users_train, df_users_ex])"
   ]
  },
  {
   "cell_type": "markdown",
   "metadata": {},
   "source": [
    "Модель строим для пользователей из twitter_train, нужно выбрать этих пользователей из матрицы из 4 ДЗ:"
   ]
  },
  {
   "cell_type": "code",
   "execution_count": 13,
   "metadata": {
    "collapsed": false,
    "scrolled": true
   },
   "outputs": [],
   "source": [
    "train_users = df_users_train[\"uid\"].values\n",
    "ix = np.in1d(users, train_users).reshape(users.shape)\n",
    "X = X_dataset[np.where(ix)]"
   ]
  },
  {
   "cell_type": "markdown",
   "metadata": {},
   "source": [
    "Формируем целевую переменную: Делаем join списка пользователей из ДЗ4 с обучающей выборкой."
   ]
  },
  {
   "cell_type": "code",
   "execution_count": 14,
   "metadata": {
    "collapsed": false
   },
   "outputs": [
    {
     "name": "stdout",
     "output_type": "stream",
     "text": [
      "Resulting training set: (4935x264014) feature matrix, 4935 target vector\n"
     ]
    }
   ],
   "source": [
    "train_ids = users[np.where(ix)]\n",
    "train_labels = df_users_train['cat'].values\n",
    "Y = np.array(map(lambda y: train_labels[np.where(train_users == y)[0][0]], train_ids))\n",
    "print \"Resulting training set: (%dx%d) feature matrix, %d target vector\" % (X.shape[0], X.shape[1], Y.shape[0])"
   ]
  },
  {
   "cell_type": "markdown",
   "metadata": {},
   "source": [
    "Чтобы исследовать, как ведут себя признаки, построим распределение количества ненулевых признаков у пользователей, чтобы убедиться, что он удовлетворяет закону Ципфа. Для этого построим гистограмму в логарифмических осях. [Подсказка](http://anokhin.github.io/img/sf1.png) снизу - кол-во фич, слева - частота фич"
   ]
  },
  {
   "cell_type": "code",
   "execution_count": 15,
   "metadata": {
    "collapsed": false
   },
   "outputs": [
    {
     "data": {
      "image/png": "[encoded data removed]",
      "text/plain": [
       "<matplotlib.figure.Figure at 0x121402410>"
      ]
     },
     "metadata": {},
     "output_type": "display_data"
    }
   ],
   "source": [
    "def draw_log_hist(x):\n",
    "    \"\"\"Draw tokens histogram in log scales\"\"\"\n",
    "    # Your code here\n",
    "    freq = np.array((x!=0).sum(axis = 0)).reshape(-1,) + 1\n",
    "    ran = range(1, x.shape[1]+1)\n",
    "    plt.figure(figsize=(10, 6))\n",
    "    plt.xlim(1, x.shape[1]+1)\n",
    "    plt.ylim(min(freq), max(freq))\n",
    "    plt.xscale('log')\n",
    "    plt.yscale('log')\n",
    "    plt.scatter(ran, sorted(freq, reverse=True), edgecolors='face')\n",
    "    return freq\n",
    "\n",
    "features_counts = draw_log_hist(X)"
   ]
  },
  {
   "cell_type": "markdown",
   "metadata": {},
   "source": [
    "Проведем отбор признаков. В самом простом случае просто удаляем признаки, имеющие ненулевое значение у менее, чем 100 пользователей."
   ]
  },
  {
   "cell_type": "code",
   "execution_count": 16,
   "metadata": {
    "collapsed": false
   },
   "outputs": [],
   "source": [
    "X1 = normalize(X.tocsc()[:, features_counts > 100].toarray())"
   ]
  },
  {
   "cell_type": "markdown",
   "metadata": {},
   "source": [
    "Вариант задания генерируется на основании вашего ника в техносфере."
   ]
  },
  {
   "cell_type": "code",
   "execution_count": 17,
   "metadata": {
    "collapsed": false
   },
   "outputs": [
    {
     "name": "stdout",
     "output_type": "stream",
     "text": [
      "My homework 5 algorithm is: Logistic regression with L2 regularization optimized by Newton method\n"
     ]
    }
   ],
   "source": [
    "USER_NAME = \"m.postnikov\"\n",
    "OPTIMIZATION_ALGORITHMS = [\"stochastic gradient descent\", \"Newton method\"]\n",
    "REGULARIZATIONS = [\"L1\", \"L2\"]\n",
    "\n",
    "print \"My homework 5 algorithm is: Logistic regression with %s regularization optimized by %s\" % (\n",
    "    REGULARIZATIONS[hash(USER_NAME) % 2],\n",
    "    OPTIMIZATION_ALGORITHMS[hash(USER_NAME[::-1]) % 2]\n",
    ")"
   ]
  },
  {
   "cell_type": "markdown",
   "metadata": {},
   "source": [
    "Реализуем выбранный алгоритм"
   ]
  },
  {
   "cell_type": "markdown",
   "metadata": {},
   "source": [
    "## $$Formulas\\ with\\ L2\\ regularization$$"
   ]
  },
  {
   "cell_type": "markdown",
   "metadata": {},
   "source": [
    "$$Cost\\ function$$\n",
    "\n",
    "$J(\\theta)=-\\frac{{1}}{m}\\sum_{i=1}^{m}\\left[\n",
    " y^{(i)}\\log(h_{\\theta}(x^{(i)}))+\n",
    " (1-y^{(i)})\\log(1-h_{\\theta}(x^{(i)}))\\right] + \n",
    "\\frac{\\lambda}{2m}\\sum_{j=1}^{n}\\theta_{j}^{2}$"
   ]
  },
  {
   "cell_type": "markdown",
   "metadata": {},
   "source": [
    "$$Gradient$$\n",
    "\n",
    "$\\nabla_{\\theta}J = \\left[\\begin{array}{c}\n",
    "\\frac{1}{m}\\sum_{i=1}^{m}\\left(h_{\\theta}(x^{(i)})-y^{(i)}\\right)x_{0}^{(i)}\\\\\n",
    "\\frac{1}{m}\\sum_{i=1}^{m}\\left(h_{\\theta}(x^{(i)})-y^{(i)}\\right)x_{1}^{(i)}+\\frac{\\lambda}{m}\\theta_{1}\\\\\n",
    "\\frac{1}{m}\\sum_{i=1}^{m}\\left(h_{\\theta}(x^{(i)})-y^{(i)}\\right)x_{2}^{(i)}+\\frac{\\lambda}{m}\\theta_{2}\\\\\n",
    "\\vdots\\\\\n",
    "\\frac{1}{m}\\sum_{i=1}^{m}\\left(h_{\\theta}(x^{(i)})-y^{(i)}\\right)x_{n}^{(i)}+\\frac{\\lambda}{m}\\theta_{n}\\end{array}\\right]\n",
    "$"
   ]
  },
  {
   "cell_type": "markdown",
   "metadata": {},
   "source": [
    "$$Hessian$$\n",
    "\n",
    "$ H = \\frac{1}{m}\\left[\\sum_{i=1}^{m}h_{\\theta}(x^{(i)})\\left(1-h_{\\theta}(x^{(i)})\\right)x^{(i)}\\left(x^{(i)}\\right)^{T}\\right] +\n",
    "\\frac{\\lambda}{m}\\left[\\begin{array}{cccc}\n",
    "0\\\\\n",
    " & 1\\\\\n",
    " &  & \\ddots\\\\\n",
    " &  &  & 1\\end{array}\\right] $"
   ]
  },
  {
   "cell_type": "markdown",
   "metadata": {},
   "source": [
    "$$Newton's\\ Method\\ update\\ rule$$\n",
    "\n",
    "$\\theta^{(t+1)}=\\theta^{(t)}-H^{-1}\\nabla_{\\theta}J \\nonumber$"
   ]
  },
  {
   "cell_type": "markdown",
   "metadata": {},
   "source": [
    "http://openclassroom.stanford.edu/MainFolder/DocumentPage.php?course=MachineLearning&doc=exercises/ex4/ex4.html\n",
    "http://openclassroom.stanford.edu/MainFolder/DocumentPage.php?course=MachineLearning&doc=exercises/ex5/ex5.html"
   ]
  },
  {
   "cell_type": "code",
   "execution_count": 18,
   "metadata": {
    "collapsed": false
   },
   "outputs": [],
   "source": [
    "class LogisticRegression():\n",
    "    \n",
    "    def __init__(self, C=1.0, tol=1e-4, maxiter=20):\n",
    "        self.C = C if C >= 0 else 1.0\n",
    "        self.tol = tol\n",
    "        self.maxiter = maxiter\n",
    "    \n",
    "    def fit(self, X, Y=None):\n",
    "        \n",
    "        #logit function\n",
    "        def g(z):\n",
    "            return 1./(1 + np.exp(-z))\n",
    "        \n",
    "        #grad with L2 regularization\n",
    "        def grad(x, y, p, m, Cv):\n",
    "            return 1./m * (x.T.dot(p - y) + Cv*self.th)\n",
    "\n",
    "        #Hessian with L2 regularization\n",
    "        def H(x, y, W, m, Cv):\n",
    "            return 1./m * (x.T.dot(W).dot(x) + np.diag(Cv))\n",
    "        \n",
    "        #modifying X matrix\n",
    "        X1 = np.concatenate((np.array([[1]*X.shape[0]]).T, X), axis=1)\n",
    "        m = X1.shape[0]\n",
    "        n = X1.shape[1]\n",
    "        \n",
    "        #setting theta vector\n",
    "        pr0 = Y.mean()\n",
    "        self.th = np.zeros(n)\n",
    "        self.th[0] = math.log(pr0/(1-pr0))\n",
    "        \n",
    "        #lambda vector with first 0\n",
    "        Cv = np.array([0]+[self.C]*(n-1))\n",
    "        \n",
    "        #iterations\n",
    "        for i in range(self.maxiter):\n",
    "            z = np.dot(X1, self.th)\n",
    "            p = g(z)\n",
    "            #Weights\n",
    "            w = p*(1-p)\n",
    "            W = np.diag(w)\n",
    "            #Gradient with L2\n",
    "            gr = grad(X1, Y, p, m, Cv)\n",
    "            #Hessian with L2\n",
    "            He = H(X1, Y, W, m, Cv)\n",
    "            #-Hessian^(-1)*gradient\n",
    "            try:\n",
    "                d = - np.linalg.inv(He).dot(gr)\n",
    "            except Exception as e:\n",
    "                print e\n",
    "                break\n",
    "            #new theta\n",
    "            self.th += d\n",
    "            print '%d\\t%.6f\\t%.6f' % (i, max(gr), sum((Y-p)**2))\n",
    "            if max(gr) < self.tol: break\n",
    "        return self\n",
    "    \n",
    "    def predict_proba(self, X):\n",
    "        #logit function\n",
    "        def g(z):\n",
    "            return 1./(1 + np.exp(-z))\n",
    "        \n",
    "        X1 = np.concatenate((np.array([[1]*X.shape[0]]).T, X), axis=1)\n",
    "        z = np.dot(X1, self.th)\n",
    "        p = g(z)\n",
    "        return p"
   ]
  },
  {
   "cell_type": "markdown",
   "metadata": {},
   "source": [
    "Реализуем метрику качества, используемую в соревновании: площадь под ROC кривой"
   ]
  },
  {
   "cell_type": "code",
   "execution_count": 19,
   "metadata": {
    "collapsed": false
   },
   "outputs": [],
   "source": [
    "def auroc(y_prob, y_true):\n",
    "    desc_score_indices = np.argsort(y_prob)[::-1]\n",
    "    y_true = y_true[desc_score_indices]\n",
    "    y_prob = y_prob[desc_score_indices]\n",
    "    P = (y_true == 1).sum()\n",
    "    N = (y_true != 1).sum()\n",
    "    fp, tp = 0, 0\n",
    "    fpr, tpr = [], []\n",
    "    fprev = -inf\n",
    "    auc = 0\n",
    "    for i in range(len(y_true)):\n",
    "        if y_prob[i] != fprev:\n",
    "            fpr.append(float(fp)/N)\n",
    "            tpr.append(float(tp)/P)\n",
    "            fprev = y_prob[i]\n",
    "        if y_true[i] == 1:\n",
    "            tp += 1\n",
    "        else:\n",
    "            fp += 1\n",
    "            auc += 1./N*tpr[-1]\n",
    "    return tpr, fpr, auc"
   ]
  },
  {
   "cell_type": "markdown",
   "metadata": {},
   "source": [
    "Разделим выборку с помощью методики кросс-валидации для того, чтобы настроить параметр регуляризации $C$"
   ]
  },
  {
   "cell_type": "code",
   "execution_count": 20,
   "metadata": {
    "collapsed": false
   },
   "outputs": [
    {
     "name": "stdout",
     "output_type": "stream",
     "text": [
      "No.: 1 of 6 =============\n",
      "\tCV 1 of 20\n",
      "0\t0.014169\t1171.658703\n",
      "1\t0.001032\t984.555931\n",
      "2\t0.000019\t981.630726\n",
      "3\t0.000000\t981.594080\n",
      "\tCV 2 of 20\n",
      "0\t0.014731\t1171.738695\n",
      "1\t0.001135\t983.648542\n",
      "2\t0.000024\t980.644376\n",
      "3\t0.000000\t980.605040\n",
      "\tCV 3 of 20\n"
     ]
    },
    {
     "ename": "KeyboardInterrupt",
     "evalue": "",
     "output_type": "error",
     "traceback": [
      "\u001b[0;31m---------------------------------------------------------------------------\u001b[0m",
      "\u001b[0;31mKeyboardInterrupt\u001b[0m                         Traceback (most recent call last)",
      "\u001b[0;32m<ipython-input-20-c3051e5dc0fd>\u001b[0m in \u001b[0;36m<module>\u001b[0;34m()\u001b[0m\n\u001b[1;32m     21\u001b[0m     \u001b[0;32mreturn\u001b[0m \u001b[0mresults\u001b[0m\u001b[0;34m.\u001b[0m\u001b[0mindex\u001b[0m\u001b[0;34m(\u001b[0m\u001b[0mmax\u001b[0m\u001b[0;34m(\u001b[0m\u001b[0mresults\u001b[0m\u001b[0;34m)\u001b[0m\u001b[0;34m)\u001b[0m\u001b[0;34m\u001b[0m\u001b[0m\n\u001b[1;32m     22\u001b[0m \u001b[0;34m\u001b[0m\u001b[0m\n\u001b[0;32m---> 23\u001b[0;31m \u001b[0mindex\u001b[0m \u001b[0;34m=\u001b[0m \u001b[0mselect_reg_parameter\u001b[0m\u001b[0;34m(\u001b[0m\u001b[0mC\u001b[0m\u001b[0;34m,\u001b[0m \u001b[0mX1\u001b[0m\u001b[0;34m,\u001b[0m \u001b[0mY\u001b[0m\u001b[0;34m,\u001b[0m \u001b[0;36m20\u001b[0m\u001b[0;34m)\u001b[0m\u001b[0;34m\u001b[0m\u001b[0m\n\u001b[0m\u001b[1;32m     24\u001b[0m \u001b[0;32mprint\u001b[0m \u001b[0mindex\u001b[0m\u001b[0;34m\u001b[0m\u001b[0m\n",
      "\u001b[0;32m<ipython-input-20-c3051e5dc0fd>\u001b[0m in \u001b[0;36mselect_reg_parameter\u001b[0;34m(C, X, Y, n_folds)\u001b[0m\n\u001b[1;32m     13\u001b[0m             \u001b[0;32mprint\u001b[0m \u001b[0;34m'\\tCV %d of %d'\u001b[0m \u001b[0;34m%\u001b[0m \u001b[0;34m(\u001b[0m\u001b[0mj\u001b[0m\u001b[0;34m+\u001b[0m\u001b[0;36m1\u001b[0m\u001b[0;34m,\u001b[0m \u001b[0mn_folds\u001b[0m\u001b[0;34m)\u001b[0m\u001b[0;34m\u001b[0m\u001b[0m\n\u001b[1;32m     14\u001b[0m             \u001b[0mr\u001b[0m \u001b[0;34m=\u001b[0m \u001b[0mLogisticRegression\u001b[0m\u001b[0;34m(\u001b[0m\u001b[0mC\u001b[0m \u001b[0;34m=\u001b[0m \u001b[0mc\u001b[0m\u001b[0;34m,\u001b[0m \u001b[0mtol\u001b[0m\u001b[0;34m=\u001b[0m\u001b[0;36m1e-7\u001b[0m\u001b[0;34m)\u001b[0m\u001b[0;34m\u001b[0m\u001b[0m\n\u001b[0;32m---> 15\u001b[0;31m             \u001b[0mr\u001b[0m\u001b[0;34m.\u001b[0m\u001b[0mfit\u001b[0m\u001b[0;34m(\u001b[0m\u001b[0mX\u001b[0m\u001b[0;34m[\u001b[0m\u001b[0mtrain_index\u001b[0m\u001b[0;34m]\u001b[0m\u001b[0;34m,\u001b[0m\u001b[0mY\u001b[0m\u001b[0;34m[\u001b[0m\u001b[0mtrain_index\u001b[0m\u001b[0;34m]\u001b[0m\u001b[0;34m)\u001b[0m\u001b[0;34m\u001b[0m\u001b[0m\n\u001b[0m\u001b[1;32m     16\u001b[0m             \u001b[0my_prob\u001b[0m \u001b[0;34m=\u001b[0m \u001b[0mr\u001b[0m\u001b[0;34m.\u001b[0m\u001b[0mpredict_proba\u001b[0m\u001b[0;34m(\u001b[0m\u001b[0mX\u001b[0m\u001b[0;34m[\u001b[0m\u001b[0mtest_index\u001b[0m\u001b[0;34m]\u001b[0m\u001b[0;34m)\u001b[0m\u001b[0;34m\u001b[0m\u001b[0m\n\u001b[1;32m     17\u001b[0m             \u001b[0m_\u001b[0m\u001b[0;34m,\u001b[0m \u001b[0m_\u001b[0m\u001b[0;34m,\u001b[0m \u001b[0mroc_auc\u001b[0m \u001b[0;34m=\u001b[0m \u001b[0mauroc\u001b[0m\u001b[0;34m(\u001b[0m\u001b[0my_prob\u001b[0m\u001b[0;34m,\u001b[0m \u001b[0mY\u001b[0m\u001b[0;34m[\u001b[0m\u001b[0mtest_index\u001b[0m\u001b[0;34m]\u001b[0m\u001b[0;34m)\u001b[0m\u001b[0;34m\u001b[0m\u001b[0m\n",
      "\u001b[0;32m<ipython-input-18-809ea93454b9>\u001b[0m in \u001b[0;36mfit\u001b[0;34m(self, X, Y)\u001b[0m\n\u001b[1;32m     46\u001b[0m             \u001b[0;31m#-Hessian^(-1)*gradient\u001b[0m\u001b[0;34m\u001b[0m\u001b[0;34m\u001b[0m\u001b[0m\n\u001b[1;32m     47\u001b[0m             \u001b[0;32mtry\u001b[0m\u001b[0;34m:\u001b[0m\u001b[0;34m\u001b[0m\u001b[0m\n\u001b[0;32m---> 48\u001b[0;31m                 \u001b[0md\u001b[0m \u001b[0;34m=\u001b[0m \u001b[0;34m-\u001b[0m \u001b[0mnp\u001b[0m\u001b[0;34m.\u001b[0m\u001b[0mlinalg\u001b[0m\u001b[0;34m.\u001b[0m\u001b[0minv\u001b[0m\u001b[0;34m(\u001b[0m\u001b[0mHe\u001b[0m\u001b[0;34m)\u001b[0m\u001b[0;34m.\u001b[0m\u001b[0mdot\u001b[0m\u001b[0;34m(\u001b[0m\u001b[0mgr\u001b[0m\u001b[0;34m)\u001b[0m\u001b[0;34m\u001b[0m\u001b[0m\n\u001b[0m\u001b[1;32m     49\u001b[0m             \u001b[0;32mexcept\u001b[0m \u001b[0mException\u001b[0m \u001b[0;32mas\u001b[0m \u001b[0me\u001b[0m\u001b[0;34m:\u001b[0m\u001b[0;34m\u001b[0m\u001b[0m\n\u001b[1;32m     50\u001b[0m                 \u001b[0;32mprint\u001b[0m \u001b[0me\u001b[0m\u001b[0;34m\u001b[0m\u001b[0m\n",
      "\u001b[0;32m//anaconda/lib/python2.7/site-packages/numpy/linalg/linalg.pyc\u001b[0m in \u001b[0;36minv\u001b[0;34m(a)\u001b[0m\n\u001b[1;32m    524\u001b[0m     \u001b[0msignature\u001b[0m \u001b[0;34m=\u001b[0m \u001b[0;34m'D->D'\u001b[0m \u001b[0;32mif\u001b[0m \u001b[0misComplexType\u001b[0m\u001b[0;34m(\u001b[0m\u001b[0mt\u001b[0m\u001b[0;34m)\u001b[0m \u001b[0;32melse\u001b[0m \u001b[0;34m'd->d'\u001b[0m\u001b[0;34m\u001b[0m\u001b[0m\n\u001b[1;32m    525\u001b[0m     \u001b[0mextobj\u001b[0m \u001b[0;34m=\u001b[0m \u001b[0mget_linalg_error_extobj\u001b[0m\u001b[0;34m(\u001b[0m\u001b[0m_raise_linalgerror_singular\u001b[0m\u001b[0;34m)\u001b[0m\u001b[0;34m\u001b[0m\u001b[0m\n\u001b[0;32m--> 526\u001b[0;31m     \u001b[0mainv\u001b[0m \u001b[0;34m=\u001b[0m \u001b[0m_umath_linalg\u001b[0m\u001b[0;34m.\u001b[0m\u001b[0minv\u001b[0m\u001b[0;34m(\u001b[0m\u001b[0ma\u001b[0m\u001b[0;34m,\u001b[0m \u001b[0msignature\u001b[0m\u001b[0;34m=\u001b[0m\u001b[0msignature\u001b[0m\u001b[0;34m,\u001b[0m \u001b[0mextobj\u001b[0m\u001b[0;34m=\u001b[0m\u001b[0mextobj\u001b[0m\u001b[0;34m)\u001b[0m\u001b[0;34m\u001b[0m\u001b[0m\n\u001b[0m\u001b[1;32m    527\u001b[0m     \u001b[0;32mreturn\u001b[0m \u001b[0mwrap\u001b[0m\u001b[0;34m(\u001b[0m\u001b[0mainv\u001b[0m\u001b[0;34m.\u001b[0m\u001b[0mastype\u001b[0m\u001b[0;34m(\u001b[0m\u001b[0mresult_t\u001b[0m\u001b[0;34m,\u001b[0m \u001b[0mcopy\u001b[0m\u001b[0;34m=\u001b[0m\u001b[0mFalse\u001b[0m\u001b[0;34m)\u001b[0m\u001b[0;34m)\u001b[0m\u001b[0;34m\u001b[0m\u001b[0m\n\u001b[1;32m    528\u001b[0m \u001b[0;34m\u001b[0m\u001b[0m\n",
      "\u001b[0;31mKeyboardInterrupt\u001b[0m: "
     ]
    }
   ],
   "source": [
    "#C = [0, 0.1, 1, 10, 100, 1000, 10000, 100000, 500000]\n",
    "#C = [0.01, 1, 5, 10, 50, 100, 500]\n",
    "C = [5, 6, 7, 10, 20, 100]\n",
    "#C = [3.5,4,4.5,5,5.5,6,6.5]\n",
    "\n",
    "def select_reg_parameter(C, X, Y, n_folds = 5):\n",
    "    kf = cv.KFold(n=len(Y), n_folds=n_folds, shuffle=True, random_state=0)\n",
    "    results = []\n",
    "    for i, c in enumerate(C):\n",
    "        print 'No.: %d of %d =============' % (i+1, len(C))\n",
    "        scores = []\n",
    "        for j, (train_index, test_index) in enumerate(kf):\n",
    "            print '\\tCV %d of %d' % (j+1, n_folds)\n",
    "            r = LogisticRegression(C = c, tol=1e-7)\n",
    "            r.fit(X[train_index],Y[train_index])\n",
    "            y_prob = r.predict_proba(X[test_index])\n",
    "            _, _, roc_auc = auroc(y_prob, Y[test_index])\n",
    "            scores.append(roc_auc)\n",
    "        results.append(np.mean(scores))\n",
    "        print \"%d:\\t\" % c, results\n",
    "    return results.index(max(results))\n",
    "\n",
    "index = select_reg_parameter(C, X1, Y, 20)\n",
    "print index"
   ]
  },
  {
   "cell_type": "markdown",
   "metadata": {},
   "source": [
    "Выбираем наилучшее значение $C$, и классифицируем неизвестных пользователей и строим ROC-кривую"
   ]
  },
  {
   "cell_type": "code",
   "execution_count": 200,
   "metadata": {
    "collapsed": false
   },
   "outputs": [
    {
     "name": "stdout",
     "output_type": "stream",
     "text": [
      "0\t0.015055\t616.664775\n",
      "1\t0.000801\t528.419155\n",
      "2\t0.000007\t527.245224\n",
      "3\t0.000000\t527.237512\n",
      "Area under the ROC curve : 0.694968\n"
     ]
    },
    {
     "data": {
      "image/png": "[encoded data removed]",
      "text/plain": [
       "<matplotlib.figure.Figure at 0x117d7dd90>"
      ]
     },
     "metadata": {},
     "output_type": "display_data"
    }
   ],
   "source": [
    "def classify(X, Y, test_size, C):\n",
    "    model = LogisticRegression(C=C, tol=1e-7)\n",
    "    x_train, x_test, y_train, y_test = cv.train_test_split(X, Y, test_size=test_size,\\\n",
    "                                                           random_state = 42)\n",
    "    fit = model.fit(x_train, y_train)\n",
    "    y_prob = fit.predict_proba(x_test)    \n",
    "    return auroc(y_prob, y_test)   \n",
    "\n",
    "tpr, fpr, roc_auc = classify(X1, Y, 0.5, 6)\n",
    "\n",
    "print \"Area under the ROC curve : %f\" % roc_auc\n",
    "\n",
    "def plot_roc_curve(tpr, fpr, roc_auc): \n",
    "    \"\"\"Plot ROC curve\"\"\"\n",
    "    plt.figure(figsize=(5,5))\n",
    "    plt.fill_between(fpr, tpr, label='ROC curve (area = %0.2f)' % roc_auc, alpha=0.3)\n",
    "    plt.plot([0, 1], [0, 1], 'k--')\n",
    "    plt.xlim([0.0, 1.0])\n",
    "    plt.ylim([0.0, 1.0])\n",
    "    plt.legend(loc = 4)\n",
    "    plt.xlabel('False Positive Rate')\n",
    "    plt.ylabel('True Positive Rate')\n",
    "    \n",
    "plot_roc_curve(tpr, fpr, roc_auc)"
   ]
  },
  {
   "cell_type": "markdown",
   "metadata": {},
   "source": [
    "С помощью полученной модели предсказываем категории для неизвестных пользователей из соревнования и загружаем на kaggle в нужном формате. ДЗ принимается только при наличии загруженных данных на kaggle."
   ]
  },
  {
   "cell_type": "code",
   "execution_count": 176,
   "metadata": {
    "collapsed": true
   },
   "outputs": [],
   "source": [
    "predict_users = df_users_ex[\"uid\"].values\n",
    "ix = np.in1d(users, predict_users).reshape(users.shape)\n",
    "X_predict = normalize(X_dataset[np.where(ix)].tocsc()[:, features_counts > 100].toarray())\n",
    "predict_users_ids = users[np.where(ix)]\n",
    "unknown_users_ids = filter(lambda x: x not in users, df_users_ex['uid'].values)"
   ]
  },
  {
   "cell_type": "code",
   "execution_count": 207,
   "metadata": {
    "collapsed": false
   },
   "outputs": [
    {
     "name": "stdout",
     "output_type": "stream",
     "text": [
      "0\t0.014338\t1233.480041\n",
      "1\t0.000895\t1062.852128\n",
      "2\t0.000012\t1060.182270\n",
      "3\t0.000000\t1060.156444\n"
     ]
    }
   ],
   "source": [
    "model = LogisticRegression(C=9, tol=1e-7)\n",
    "model.fit(X1, Y)\n",
    "y_predicted_prob = model.predict_proba(X_predict)"
   ]
  },
  {
   "cell_type": "code",
   "execution_count": 208,
   "metadata": {
    "collapsed": true
   },
   "outputs": [],
   "source": [
    "y_unknown_prob = np.array([1]*len(unknown_users_ids))"
   ]
  },
  {
   "cell_type": "code",
   "execution_count": 209,
   "metadata": {
    "collapsed": true
   },
   "outputs": [],
   "source": [
    "with open('./predicted.txt', 'w') as f:\n",
    "    f.write('uid,cat\\n')\n",
    "    for i in range(len(y_predicted_prob)):\n",
    "        f.write('%d,%f\\n' % (predict_users_ids[i], y_predicted_prob[i]))\n",
    "    for i in range(len(y_unknown_prob)):\n",
    "        f.write('%d,%f\\n' % (unknown_users_ids[i], y_unknown_prob[i]))"
   ]
  },
  {
   "cell_type": "code",
   "execution_count": null,
   "metadata": {
    "collapsed": true
   },
   "outputs": [],
   "source": []
  }
 ],
 "metadata": {
  "kernelspec": {
   "display_name": "Python 2",
   "language": "python",
   "name": "python2"
  },
  "language_info": {
   "codemirror_mode": {
    "name": "ipython",
    "version": 2
   },
   "file_extension": ".py",
   "mimetype": "text/x-python",
   "name": "python",
   "nbconvert_exporter": "python",
   "pygments_lexer": "ipython2",
   "version": "2.7.11"
  }
 },
 "nbformat": 4,
 "nbformat_minor": 0
}
