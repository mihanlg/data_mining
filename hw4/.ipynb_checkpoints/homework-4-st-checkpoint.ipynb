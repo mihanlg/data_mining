{
 "cells": [
  {
   "cell_type": "markdown",
   "metadata": {},
   "source": [
    "# Домашнее задание 4. Конструирование текстовых признаков из твитов пользователей"
   ]
  },
  {
   "cell_type": "markdown",
   "metadata": {},
   "source": [
    "## Сбор данных"
   ]
  },
  {
   "cell_type": "markdown",
   "metadata": {},
   "source": [
    "Первый этап - сбор твитов пользователей. Необходимо подключаться к Twitter API и запрашивать твиты по id пользователя. \n",
    "Подключение к API подробно описано в ДЗ 1."
   ]
  },
  {
   "cell_type": "code",
   "execution_count": 1,
   "metadata": {
    "collapsed": true
   },
   "outputs": [],
   "source": [
    "import twitter\n",
    "import time\n",
    "import re\n",
    "import nltk\n",
    "import json, os, csv\n",
    "import pandas as pd\n",
    "from collections import defaultdict\n",
    "import sys\n",
    "from sklearn.feature_extraction import DictVectorizer\n",
    "import numpy as np\n",
    "from wordcloud import WordCloud, STOPWORDS\n",
    "import matplotlib.pyplot as plt\n",
    "from PIL import Image"
   ]
  },
  {
   "cell_type": "code",
   "execution_count": 2,
   "metadata": {
    "collapsed": false
   },
   "outputs": [],
   "source": [
    "CONSUMER_KEY = \"VT9d9PrddNfqQ2UKLjcOhg6u3\"\n",
    "CONSUMER_SECRET = \"ffTmJwet1T5RoZ9QanQpBqhcqKdd1IB5kMRWqrsiAvIzmZaIhe\"\n",
    "\n",
    "ACCESS_TOKEN_KEY = \"160980902-h6KgDseTTL0DSV0BuesthkWyEGCWPo6bBxrHXGxh\"\n",
    "ACCESS_TOKEN_SECRET = \"RXymB4gltxDJsxcFsjM2TKBJWRgQvBr8Y0CeO24xQHLlM\"\n",
    "\n",
    "api = twitter.Api(consumer_key=CONSUMER_KEY, \n",
    "                  consumer_secret=CONSUMER_SECRET, \n",
    "                  access_token_key=ACCESS_TOKEN_KEY, \n",
    "                  access_token_secret=ACCESS_TOKEN_SECRET)"
   ]
  },
  {
   "cell_type": "markdown",
   "metadata": {},
   "source": [
    "Для получения твитов пользователя может быть использован метод GetUserTimeline из библиотеки python-twitter. Он позволяет получить не более 200 твитов пользователя. По каждому пользователю достаточно собрать 200 твитов.\n",
    "\n",
    "Метод имеет ограничение по количеству запросов в секунду. Для получения информации о промежутке времени, которое необходимо подождать для повторного обращения к API может быть использован метод `GetSleepTime`. Для получения информации об ограничениях запросов с помощью метода `GetUserTimeLine` необходимо вызывать `GetSleepTime` с параметром \"statuses/user_timeline\".\n",
    "\n",
    "Метод GetUserTimeline возвращает объекты типа Status. У этих объектов есть метод AsDict, который позволяет представить твит в виде словаря.\n",
    "\n",
    "Id пользователей необходимо считать из файла, как было сделано в ДЗ 1.\n",
    "\n",
    "Необходимо реализовать функцию `get_user_tweets(user_id)`. Входной параметр - id пользователя из файла. Возвращаемое значение - массив твитов пользователя, где каждый твит представлен в виде словаря. Предполагается, что информация о пользователе содержится в твитах, которые пользователь написал сам. Это означает, что можно попробовать отфильтровать ответы другим пользователям, ссылки и ретвиты, а так же картинки и видео, так как наша цель - найти текстовую информацию."
   ]
  },
  {
   "cell_type": "code",
   "execution_count": 3,
   "metadata": {
    "collapsed": true
   },
   "outputs": [],
   "source": [
    "tweets_cash = 'tweets_cash.csv'\n",
    "users_path = './users'"
   ]
  },
  {
   "cell_type": "code",
   "execution_count": 4,
   "metadata": {
    "collapsed": true
   },
   "outputs": [],
   "source": [
    "def dicts_to_df(dicts, user_to_id = True):\n",
    "    if dicts == []: return pd.DataFrame()\n",
    "    df_new = pd.DataFrame(dicts)\n",
    "    if user_to_id: df_new.user = map(lambda y: y['id'], df_new.user)\n",
    "    return df_new"
   ]
  },
  {
   "cell_type": "code",
   "execution_count": 5,
   "metadata": {
    "collapsed": false
   },
   "outputs": [],
   "source": [
    "def load_processed_users():\n",
    "    global tweets_cash\n",
    "    df = pd.read_csv(tweets_cash, sep='\\t', encoding=\"utf-8\", quoting=csv.QUOTE_NONNUMERIC)\n",
    "    return df"
   ]
  },
  {
   "cell_type": "code",
   "execution_count": 6,
   "metadata": {
    "collapsed": true
   },
   "outputs": [],
   "source": [
    "def dump_user(uid, dicts):\n",
    "    global users_path\n",
    "    if not os.path.exists(users_path):\n",
    "        os.mkdir(users_path)\n",
    "    with open(users_path + '/' + str(uid), 'w') as f:\n",
    "        json.dump(dicts, f)"
   ]
  },
  {
   "cell_type": "code",
   "execution_count": 7,
   "metadata": {
    "collapsed": true
   },
   "outputs": [],
   "source": [
    "def dump_users(df):\n",
    "    global tweets_cash\n",
    "    df.to_csv(tweets_cash, sep='\\t', index=False, encoding=\"utf-8\", quoting=csv.QUOTE_NONNUMERIC)"
   ]
  },
  {
   "cell_type": "code",
   "execution_count": 8,
   "metadata": {
    "collapsed": false
   },
   "outputs": [],
   "source": [
    "def load_user(user_id):\n",
    "    global users_path\n",
    "    if os.path.exists(users_path):\n",
    "        with open(users_path + '/' + str(user_id)) as f:\n",
    "            return json.loads(f.read())\n",
    "    else: return []"
   ]
  },
  {
   "cell_type": "raw",
   "metadata": {
    "collapsed": false
   },
   "source": [
    "def load_processed_users_from_files():\n",
    "    global users_path\n",
    "    df = pd.DataFrame(columns=['tweets'])\n",
    "    if os.path.exists(users_path):\n",
    "        for filename in os.listdir(users_path):\n",
    "            df.loc[int(filename)] = [load(filename)]\n",
    "    return df"
   ]
  },
  {
   "cell_type": "code",
   "execution_count": 9,
   "metadata": {
    "collapsed": true
   },
   "outputs": [],
   "source": [
    "def tweets_to_dicts(tweets):\n",
    "    return map(lambda tweet: tweet.AsDict(), tweets)"
   ]
  },
  {
   "cell_type": "code",
   "execution_count": 10,
   "metadata": {
    "collapsed": false
   },
   "outputs": [],
   "source": [
    "def get_user_tweets(user_id):\n",
    "    \"\"\"returns list of tweets as dicts\"\"\"\n",
    "    global users_path\n",
    "    if os.path.exists(users_path):\n",
    "        if str(user_id) in os.listdir(users_path):\n",
    "            return load_user(user_id)\n",
    "    while True:\n",
    "        try:\n",
    "            tsleep = api.GetSleepTime(\"statuses/user_timeline\")\n",
    "        except Exception as e:\n",
    "            try:\n",
    "                print e.message[0]['message'] + ': waiting 1 minute'\n",
    "            except:\n",
    "                print e + 'EXCEPTION IN PRINT 1'\n",
    "            time.sleep(60)\n",
    "            continue\n",
    "        if (tsleep > 0):\n",
    "            print \"Have to sleep %.2f seconds\" % tsleep\n",
    "            time.sleep(tsleep)\n",
    "            continue\n",
    "        else: break\n",
    "    try:\n",
    "        tweets = api.GetUserTimeline(user_id, count=200, include_rts=False, exclude_replies=True, trim_user=True)\n",
    "    except Exception as e:\n",
    "        try:\n",
    "            print e.message[0]['message'] + ': no tweets returned, %d' % user_id\n",
    "        except:\n",
    "            print e.message + ', %d' % user_id\n",
    "        tweets = []\n",
    "    dicts = tweets_to_dicts(tweets)\n",
    "    dump_user(user_id, dicts)\n",
    "    return dicts"
   ]
  },
  {
   "cell_type": "markdown",
   "metadata": {},
   "source": [
    "## Разбор текста твита"
   ]
  },
  {
   "cell_type": "markdown",
   "metadata": {},
   "source": [
    "Обработка текста предполагает разбиение текста на отдельные элементы - параграфы, предложения, слова. Мы будем преобразовывать текст твита к словам. Для этого текст необходимо разбить на слова. Сделать это можно, например, с помощью регулярного выражения.\n",
    "\n",
    "Необходимо реализовать функцию, `get_words(text)`. Входной параметр - строка с текстом. Возвращаемое значение - массив строк (слов). Обратите внимание, что нужно учесть возможное наличие пунктуации и выделить по возможности только слова. "
   ]
  },
  {
   "cell_type": "code",
   "execution_count": 186,
   "metadata": {
    "collapsed": false
   },
   "outputs": [],
   "source": [
    "def get_words(text):\n",
    "    \"\"\"returns list of words\"\"\"   \n",
    "             #URL        |symbols  |email  |not ms hs|-nowords|-beg|num      |special                    |any other\n",
    "    rules = r\"http[s]*\\S*|\\s+\\W+\\s+|\\S+@\\S+|[@#-]+\\W+|\\W+-+\\W+|\\W+-|\\W*\\d+\\W*|\\W*amp\\W*|\\W*gt\\W*|\\W*lt\\W*|[\\s\\.,{}<>\\[\\]\\(\\)\\+\\?!:;&\\|\\^%\\$№~=/\\*\\\"\\']+\"\n",
    "    return filter(None, re.split(rules, ' '+text+' '))"
   ]
  },
  {
   "cell_type": "code",
   "execution_count": 187,
   "metadata": {
    "collapsed": false
   },
   "outputs": [
    {
     "name": "stdout",
     "output_type": "stream",
     "text": [
      "['You', 'don', 't', 'have', 'a', 'single', 'Senate', 'endorsement', 'You', 'should', 'be', 'ashamed', 'of', 'yourself', '@realDonaldTrump', 'to', '@tedcruz', '#GOPDebate', '#ouch']\n"
     ]
    }
   ],
   "source": [
    "print get_words(\"\\\"You &amp; https://www.yandex.ru don't have,a single [Senate] endorsement...You should@ be ashamed of yourself\\\" @realDonaldTrump to @tedcruz #GOPDebate #ouch\")"
   ]
  },
  {
   "cell_type": "markdown",
   "metadata": {},
   "source": [
    "Далее полученные слова необходимо привести к нормальной форме. То есть привести их к форме единственного числа настоящего времени и пр. Сделать это можно с помощью библиотеки nltk. Информацию по загрузке, установке библиотеки и примерах использования можно найти на сайте http://www.nltk.org/\n",
    "\n",
    "Для загрузки всех необходимых словарей можно воспользоваться методом download из библиотеки nltk."
   ]
  },
  {
   "cell_type": "markdown",
   "metadata": {},
   "source": [
    "Для дальнейшей обработки слова должны быть приведены к нижнему регистру. \n",
    "\n",
    "Для приведения к нормальной форме можно использовать `WordNetLemmatizer` из библиотеки nltk. У этого класса есть метод `lemmatize`.\n",
    "\n",
    "Также необходимо убрать из текста так называемые стоп-слова. Это часто используемые слова, не несущие смысловой нагрузки для наших задач. Сделать это можно с помощью `stopwords` из nltk.corpus"
   ]
  },
  {
   "cell_type": "markdown",
   "metadata": {},
   "source": [
    "Необходимо реализовать функцию `get_tokens(words)`. Входной параметр - массив слов. Возвращаемое значение - массив токенов."
   ]
  },
  {
   "cell_type": "code",
   "execution_count": 199,
   "metadata": {
    "collapsed": false
   },
   "outputs": [],
   "source": [
    "def get_tokens(words):\n",
    "    \"\"\"returns list of tokens\"\"\"\n",
    "    stopwords = nltk.corpus.stopwords.words('english')\n",
    "    filtered = filter(lambda word: word not in stopwords, words)\n",
    "    lemmatizer = nltk.WordNetLemmatizer()\n",
    "    lemmas = map(lambda word: lemmatizer.lemmatize(word.lower()), filtered)\n",
    "    return filter(lambda lemma: len(lemma) > 2 and lemma not in stopwords, lemmas)"
   ]
  },
  {
   "cell_type": "code",
   "execution_count": 200,
   "metadata": {
    "collapsed": false
   },
   "outputs": [
    {
     "name": "stdout",
     "output_type": "stream",
     "text": [
      "['different', u'word', \"aren't\"]\n"
     ]
    }
   ],
   "source": [
    "print get_tokens([\"Here\", \"are\", \"different\", \"words\", 'was', \"aren't\"])"
   ]
  },
  {
   "cell_type": "markdown",
   "metadata": {},
   "source": [
    "Необходимо реализовать функцию `get_tweet_tokens(tweet)`. Входной параметр - текст твита. Возвращаемое значение -- токены твита. "
   ]
  },
  {
   "cell_type": "code",
   "execution_count": 191,
   "metadata": {
    "collapsed": false
   },
   "outputs": [],
   "source": [
    "def get_tweet_tokens(tweet):\n",
    "    return get_tokens(get_words(tweet))    "
   ]
  },
  {
   "cell_type": "code",
   "execution_count": 192,
   "metadata": {
    "collapsed": false
   },
   "outputs": [
    {
     "name": "stdout",
     "output_type": "stream",
     "text": [
      "['single', 'senate', 'endorsement', 'ashamed', '@realdonaldtrump', '@tedcruz', '#gopdebate', '#ouch']\n"
     ]
    }
   ],
   "source": [
    "print get_tweet_tokens(\"\\\"You don't we're have,a single [Senate] endorsement...You should be ashamed of yourself\\\" @realDonaldTrump to @tedcruz #GOPDebate #ouch\")"
   ]
  },
  {
   "cell_type": "markdown",
   "metadata": {},
   "source": [
    "Необходимо реализовать функцию `collect_users_tokens()`. Функция должна сконструировать матрицу признаков пользователей. В этой матрице строка - пользователь. Столбец - токен. На пересечении - сколько раз токен встречается у пользователя.\n",
    "Для построения матрицы можно использовать `DictVectorizer` из `sklearn.feature_extraction`."
   ]
  },
  {
   "cell_type": "code",
   "execution_count": 193,
   "metadata": {
    "collapsed": false
   },
   "outputs": [],
   "source": [
    "def collect_users_tokens(df_users):\n",
    "    \"\"\"returns users list and list of user dicts. Each dict contains frequence of user tokens\"\"\"\n",
    "    df = load_processed_users()\n",
    "    if len(df) == 0: unprocessed = df_users.uid.values\n",
    "    else:\n",
    "        unprocessed = filter(lambda uid: uid not in df.user.values, df_users.uid.values)\n",
    "        i = 0\n",
    "        for uid in unprocessed:\n",
    "            i += 1\n",
    "            sys.stdout.write('\\rTweets %.5f Processed %d of %d ' % ((float(i)/len(unprocessed)), i, len(unprocessed)))\n",
    "            sys.stdout.flush()\n",
    "            dicts = get_user_tweets(uid)\n",
    "            df = pd.concat([df, dicts_to_df(dicts)])\n",
    "        dump_users(df)\n",
    "    \n",
    "    users = []\n",
    "    dicts = []\n",
    "    xlen = len(df.groupby('user'))\n",
    "    for i, (user, group) in enumerate(df.groupby('user')):\n",
    "        sys.stdout.write('\\rTweets %.5f Processed %d of %d ' % ((float(i+1)/xlen), i+1, xlen))\n",
    "        sys.stdout.flush()\n",
    "        users.append(user)\n",
    "        dic = defaultdict(int)\n",
    "        for tweet in group.text.values:\n",
    "            for token in get_tweet_tokens(tweet):\n",
    "                dic[token] += 1\n",
    "        dicts.append(dic)\n",
    "    return users, dicts"
   ]
  },
  {
   "cell_type": "code",
   "execution_count": 201,
   "metadata": {
    "collapsed": false
   },
   "outputs": [
    {
     "name": "stdout",
     "output_type": "stream",
     "text": [
      "Tweets 1.00000 Processed 6805 of 6805 "
     ]
    }
   ],
   "source": [
    "TRAINING_SET_URL = \"twitter_train.txt\"\n",
    "EXAMPLE_SET_URL = \"twitter_example.txt\"\n",
    "df_users_train = pd.read_csv(TRAINING_SET_URL, sep=\",\", header=0, names=[\"uid\", \"cat\"])\n",
    "df_users_ex = pd.read_csv(EXAMPLE_SET_URL, sep=\",\", header=0, names=[\"uid\", \"cat\"])\n",
    "df_users_ex['cat'] = None\n",
    "df_users = pd.concat([df_users_train, df_users_ex])\n",
    "\n",
    "users, users_tokens = collect_users_tokens(df_users)\n",
    "v = DictVectorizer()\n",
    "vs = v.fit_transform(users_tokens)"
   ]
  },
  {
   "cell_type": "raw",
   "metadata": {},
   "source": [
    "Сохраним полученные данные в файл. Используется метод savez из numpy. "
   ]
  },
  {
   "cell_type": "code",
   "execution_count": 202,
   "metadata": {
    "collapsed": false
   },
   "outputs": [],
   "source": [
    "if not os.path.exists('./files'):\n",
    "    os.mkdir('./files')\n",
    "np.savez(\"./files/out_4.dat\", data=vs, users=users, users_tokens=users_tokens )"
   ]
  },
  {
   "cell_type": "markdown",
   "metadata": {},
   "source": [
    "Далее для получения представления о полученной информацию о токенах предлагается отобразить ее в виде облака тэгов. [Подсказка](http://anokhin.github.io/img/tag_cloud.png). "
   ]
  },
  {
   "cell_type": "code",
   "execution_count": 203,
   "metadata": {
    "collapsed": true
   },
   "outputs": [],
   "source": [
    "%matplotlib inline"
   ]
  },
  {
   "cell_type": "code",
   "execution_count": 206,
   "metadata": {
    "collapsed": true
   },
   "outputs": [],
   "source": [
    "def draw_tag_cloud(v, vs):\n",
    "    \"\"\"Draws tag cloud of found tokens\"\"\"\n",
    "    wordcounts = []\n",
    "    tags = v.get_feature_names()\n",
    "    xlen = len(tags)\n",
    "    s = sum(vs[:])\n",
    "    for i, tag in enumerate(tags):\n",
    "        wordcounts.append((tag.upper(), s.data[i]))\n",
    "    wordcounts = sorted(wordcounts, key=lambda x: x[1], reverse=True)\n",
    "    twitter_mask = np.array(Image.open(\"twitter_mask.png\"))\n",
    "    wc = WordCloud(background_color=\"white\", max_words=100000, scale=2, mask=twitter_mask, font_path='tnr.ttf')\n",
    "    # generate word cloud\n",
    "    wc.generate_from_frequencies(wordcounts)\n",
    "    # store to file\n",
    "    wc.to_file(\"twitter.png\")\n",
    "    # show\n",
    "    plt.imshow(wc)\n",
    "    plt.axis(\"off\")\n",
    "    plt.show()\n",
    "    return"
   ]
  },
  {
   "cell_type": "code",
   "execution_count": 207,
   "metadata": {
    "collapsed": false
   },
   "outputs": [
    {
     "data": {
      "image/png": "[encoded data removed]",
      "text/plain": [
       "<matplotlib.figure.Figure at 0x1c4956dd0>"
      ]
     },
     "metadata": {},
     "output_type": "display_data"
    }
   ],
   "source": [
    "draw_tag_cloud(v,vs)"
   ]
  },
  {
   "cell_type": "code",
   "execution_count": null,
   "metadata": {
    "collapsed": true
   },
   "outputs": [],
   "source": []
  }
 ],
 "metadata": {
  "kernelspec": {
   "display_name": "Python 2",
   "language": "python",
   "name": "python2"
  },
  "language_info": {
   "codemirror_mode": {
    "name": "ipython",
    "version": 2
   },
   "file_extension": ".py",
   "mimetype": "text/x-python",
   "name": "python",
   "nbconvert_exporter": "python",
   "pygments_lexer": "ipython2",
   "version": "2.7.11"
  }
 },
 "nbformat": 4,
 "nbformat_minor": 0
}
