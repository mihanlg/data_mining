{
 "cells": [
  {
   "cell_type": "markdown",
   "metadata": {},
   "source": [
    "# Деревья решений. Классификация грибов."
   ]
  },
  {
   "cell_type": "code",
   "execution_count": 1,
   "metadata": {
    "collapsed": false
   },
   "outputs": [
    {
     "name": "stdout",
     "output_type": "stream",
     "text": [
      "Populating the interactive namespace from numpy and matplotlib\n"
     ]
    }
   ],
   "source": [
    "import pandas as pd\n",
    "import numpy as np\n",
    "import sklearn.tree as st\n",
    "import sklearn.externals.six as sx\n",
    "import sklearn.cross_validation  as cv\n",
    "import sklearn.metrics as sm\n",
    "import matplotlib.pyplot as pl\n",
    "import requests\n",
    "\n",
    "import pydot\n",
    "\n",
    "%pylab inline"
   ]
  },
  {
   "cell_type": "markdown",
   "metadata": {},
   "source": [
    "[Лепиота](https://www.wikiwand.com/ru/%D0%9B%D0%B5%D0%BF%D0%B8%D0%BE%D1%82%D0%B0), или чешуйница (лат. Lepiota) — род грибов семейства Шампиньоновые (Agaricaceae). Некоторые виды съедобны, некоторые ядовиты. Цель этого задания - построить модель, позволяющую определить съедобность гриба по внешнему виду."
   ]
  },
  {
   "cell_type": "code",
   "execution_count": 2,
   "metadata": {
    "collapsed": false
   },
   "outputs": [
    {
     "data": {
      "text/html": [
       "<img src=\"https://upload.wikimedia.org/wikipedia/commons/thumb/2/28/Lepiota_magnispora_39264.jpg/1024px-Lepiota_magnispora_39264.jpg\" width=400 height=300/>"
      ],
      "text/plain": [
       "<IPython.core.display.HTML object>"
      ]
     },
     "execution_count": 2,
     "metadata": {},
     "output_type": "execute_result"
    }
   ],
   "source": [
    "from IPython.core.display import HTML\n",
    "HTML('<img src=\"https://upload.wikimedia.org/wikipedia/commons/thumb/2/28/Lepiota_magnispora_39264.jpg/1024px-Lepiota_magnispora_39264.jpg\" width=400 height=300/>') "
   ]
  },
  {
   "cell_type": "code",
   "execution_count": 7,
   "metadata": {
    "collapsed": false
   },
   "outputs": [
    {
     "name": "stdout",
     "output_type": "stream",
     "text": [
      "p,x,s,n,t,p,f,c,n,k,e,e,s,s,w,w,p,w,o,p,k,s,u\n",
      "e,x,s,y,t,a,f,c,b,k,e,c,s,s,w,w,p,w,o,p,n,n,g\n",
      "e,b,s,w,t,l,f,c,b,n,e,c,s,s,w,w,p,w,o,p,n,n,m\n",
      "p,x,y,w,t,p,f,c,n,n,e,e,s,s,w,w,p,w,o,p,k,s,u\n",
      "e,x,s,g,f,n,f,w,b,k,t,e,s,s,w,w,p,w,o,e,n,a,g\n"
     ]
    }
   ],
   "source": [
    "g = requests.get('http://archive.ics.uci.edu/ml/machine-learning-databases/mushroom/agaricus-lepiota.data', verify=False, stream=True).iter_lines()\n",
    "for i in xrange(5):\n",
    "    print next(g)"
   ]
  },
  {
   "cell_type": "markdown",
   "metadata": {},
   "source": [
    "Загружаем данные [Agaricus Lepiota](https://archive.ics.uci.edu/ml/datasets/Mushroom) из UCI Machine Learning Repository."
   ]
  },
  {
   "cell_type": "code",
   "execution_count": 8,
   "metadata": {
    "collapsed": false
   },
   "outputs": [
    {
     "name": "stdout",
     "output_type": "stream",
     "text": [
      "Successfully loaded 8124x22 X data set for 8124 objects\n"
     ]
    },
    {
     "data": {
      "text/html": [
       "<div>\n",
       "<table border=\"1\" class=\"dataframe\">\n",
       "  <thead>\n",
       "    <tr style=\"text-align: right;\">\n",
       "      <th></th>\n",
       "      <th>classification</th>\n",
       "      <th>cap_shape</th>\n",
       "      <th>cap_surface</th>\n",
       "      <th>cap_color</th>\n",
       "      <th>bruises</th>\n",
       "      <th>odor</th>\n",
       "      <th>gill_attachment</th>\n",
       "      <th>gill_spacing</th>\n",
       "      <th>gill_size</th>\n",
       "      <th>gill_color</th>\n",
       "      <th>...</th>\n",
       "      <th>stalk_surface_below_ring</th>\n",
       "      <th>stalk_color_above_ring</th>\n",
       "      <th>stalk_color_below_ring</th>\n",
       "      <th>veil_type</th>\n",
       "      <th>veil_color</th>\n",
       "      <th>ring_number</th>\n",
       "      <th>ring_type</th>\n",
       "      <th>spore_print_color</th>\n",
       "      <th>population</th>\n",
       "      <th>habitat</th>\n",
       "    </tr>\n",
       "  </thead>\n",
       "  <tbody>\n",
       "    <tr>\n",
       "      <th>0</th>\n",
       "      <td>112</td>\n",
       "      <td>120</td>\n",
       "      <td>115</td>\n",
       "      <td>110</td>\n",
       "      <td>116</td>\n",
       "      <td>112</td>\n",
       "      <td>102</td>\n",
       "      <td>99</td>\n",
       "      <td>110</td>\n",
       "      <td>107</td>\n",
       "      <td>...</td>\n",
       "      <td>115</td>\n",
       "      <td>119</td>\n",
       "      <td>119</td>\n",
       "      <td>112</td>\n",
       "      <td>119</td>\n",
       "      <td>111</td>\n",
       "      <td>112</td>\n",
       "      <td>107</td>\n",
       "      <td>115</td>\n",
       "      <td>117</td>\n",
       "    </tr>\n",
       "    <tr>\n",
       "      <th>1</th>\n",
       "      <td>101</td>\n",
       "      <td>120</td>\n",
       "      <td>115</td>\n",
       "      <td>121</td>\n",
       "      <td>116</td>\n",
       "      <td>97</td>\n",
       "      <td>102</td>\n",
       "      <td>99</td>\n",
       "      <td>98</td>\n",
       "      <td>107</td>\n",
       "      <td>...</td>\n",
       "      <td>115</td>\n",
       "      <td>119</td>\n",
       "      <td>119</td>\n",
       "      <td>112</td>\n",
       "      <td>119</td>\n",
       "      <td>111</td>\n",
       "      <td>112</td>\n",
       "      <td>110</td>\n",
       "      <td>110</td>\n",
       "      <td>103</td>\n",
       "    </tr>\n",
       "    <tr>\n",
       "      <th>2</th>\n",
       "      <td>101</td>\n",
       "      <td>98</td>\n",
       "      <td>115</td>\n",
       "      <td>119</td>\n",
       "      <td>116</td>\n",
       "      <td>108</td>\n",
       "      <td>102</td>\n",
       "      <td>99</td>\n",
       "      <td>98</td>\n",
       "      <td>110</td>\n",
       "      <td>...</td>\n",
       "      <td>115</td>\n",
       "      <td>119</td>\n",
       "      <td>119</td>\n",
       "      <td>112</td>\n",
       "      <td>119</td>\n",
       "      <td>111</td>\n",
       "      <td>112</td>\n",
       "      <td>110</td>\n",
       "      <td>110</td>\n",
       "      <td>109</td>\n",
       "    </tr>\n",
       "    <tr>\n",
       "      <th>3</th>\n",
       "      <td>112</td>\n",
       "      <td>120</td>\n",
       "      <td>121</td>\n",
       "      <td>119</td>\n",
       "      <td>116</td>\n",
       "      <td>112</td>\n",
       "      <td>102</td>\n",
       "      <td>99</td>\n",
       "      <td>110</td>\n",
       "      <td>110</td>\n",
       "      <td>...</td>\n",
       "      <td>115</td>\n",
       "      <td>119</td>\n",
       "      <td>119</td>\n",
       "      <td>112</td>\n",
       "      <td>119</td>\n",
       "      <td>111</td>\n",
       "      <td>112</td>\n",
       "      <td>107</td>\n",
       "      <td>115</td>\n",
       "      <td>117</td>\n",
       "    </tr>\n",
       "    <tr>\n",
       "      <th>4</th>\n",
       "      <td>101</td>\n",
       "      <td>120</td>\n",
       "      <td>115</td>\n",
       "      <td>103</td>\n",
       "      <td>102</td>\n",
       "      <td>110</td>\n",
       "      <td>102</td>\n",
       "      <td>119</td>\n",
       "      <td>98</td>\n",
       "      <td>107</td>\n",
       "      <td>...</td>\n",
       "      <td>115</td>\n",
       "      <td>119</td>\n",
       "      <td>119</td>\n",
       "      <td>112</td>\n",
       "      <td>119</td>\n",
       "      <td>111</td>\n",
       "      <td>101</td>\n",
       "      <td>110</td>\n",
       "      <td>97</td>\n",
       "      <td>103</td>\n",
       "    </tr>\n",
       "  </tbody>\n",
       "</table>\n",
       "<p>5 rows × 23 columns</p>\n",
       "</div>"
      ],
      "text/plain": [
       "   classification  cap_shape  cap_surface  cap_color  bruises  odor  \\\n",
       "0             112        120          115        110      116   112   \n",
       "1             101        120          115        121      116    97   \n",
       "2             101         98          115        119      116   108   \n",
       "3             112        120          121        119      116   112   \n",
       "4             101        120          115        103      102   110   \n",
       "\n",
       "   gill_attachment  gill_spacing  gill_size  gill_color   ...     \\\n",
       "0              102            99        110         107   ...      \n",
       "1              102            99         98         107   ...      \n",
       "2              102            99         98         110   ...      \n",
       "3              102            99        110         110   ...      \n",
       "4              102           119         98         107   ...      \n",
       "\n",
       "   stalk_surface_below_ring  stalk_color_above_ring  stalk_color_below_ring  \\\n",
       "0                       115                     119                     119   \n",
       "1                       115                     119                     119   \n",
       "2                       115                     119                     119   \n",
       "3                       115                     119                     119   \n",
       "4                       115                     119                     119   \n",
       "\n",
       "   veil_type  veil_color  ring_number  ring_type  spore_print_color  \\\n",
       "0        112         119          111        112                107   \n",
       "1        112         119          111        112                110   \n",
       "2        112         119          111        112                110   \n",
       "3        112         119          111        112                107   \n",
       "4        112         119          111        101                110   \n",
       "\n",
       "   population  habitat  \n",
       "0         115      117  \n",
       "1         110      103  \n",
       "2         110      109  \n",
       "3         115      117  \n",
       "4          97      103  \n",
       "\n",
       "[5 rows x 23 columns]"
      ]
     },
     "execution_count": 8,
     "metadata": {},
     "output_type": "execute_result"
    }
   ],
   "source": [
    "column_names=[\n",
    "    'classification', \n",
    "    'cap_shape', \n",
    "    'cap_surface', \n",
    "    'cap_color', \n",
    "    'bruises', \n",
    "    'odor', \n",
    "    'gill_attachment', \n",
    "    'gill_spacing', \n",
    "    'gill_size', \n",
    "    'gill_color', \n",
    "    'stalk_shape', \n",
    "    'stalk_root', \n",
    "    'stalk_surface_above_ring', \n",
    "    'stalk_surface_below_ring', \n",
    "    'stalk_color_above_ring', \n",
    "    'stalk_color_below_ring', \n",
    "    'veil_type', \n",
    "    'veil_color', \n",
    "    'ring_number', \n",
    "    'ring_type', \n",
    "    'spore_print_color',           \n",
    "    'population', \n",
    "    'habitat'\n",
    "]\n",
    "mushrooms_df = pd.read_csv(\n",
    "    \"http://archive.ics.uci.edu/ml/machine-learning-databases/mushroom/agaricus-lepiota.data\",\n",
    "    header=None,\n",
    "    names=column_names,\n",
    "    converters=dict((name, lambda c: ord(c)) for name in column_names)\n",
    ")\n",
    "\n",
    "X = mushrooms_df.values[:, 1:]\n",
    "# 1 is edible, 0 is poisonous\n",
    "Y = (mushrooms_df.values[:, 0] == 101).astype(int)\n",
    "\n",
    "print \"Successfully loaded %dx%d X data set for %d objects\" % (X.shape[0], X.shape[1], Y.shape[0])\n",
    "mushrooms_df.head()"
   ]
  },
  {
   "cell_type": "markdown",
   "metadata": {},
   "source": [
    "Вспомогательный класс, позволяющий показывать PDF файлы в notebook."
   ]
  },
  {
   "cell_type": "code",
   "execution_count": 9,
   "metadata": {
    "collapsed": true
   },
   "outputs": [],
   "source": [
    "class PDF(object):\n",
    "    def __init__(self, pdf, size=(200,200)):\n",
    "        self.pdf = pdf\n",
    "        self.size = size\n",
    "\n",
    "    def _repr_html_(self):\n",
    "        return '<iframe src={0} width={1[0]} height={1[1]}></iframe>'.format(self.pdf, self.size)\n",
    "\n",
    "    def _repr_latex_(self):\n",
    "        return r'\\includegraphics[width=1.0\\textwidth]{{{0}}}'.format(self.pdf)"
   ]
  },
  {
   "cell_type": "markdown",
   "metadata": {},
   "source": [
    "### Построение дерева решений\n",
    "\n",
    "Разделяем данные на тренировочную и тестовую выборки. Для построения модели используем уже реализованный [алгоритм](http://scikit-learn.org/stable/modules/tree.html) из `sklearn`. Постройте 2 модели с разными impurity: gini и entropy.\n",
    "\n",
    "Предсказываем класс для тестовой части. Требуется посчитать precision и recall класса съедобных для обоих моделей. Какая impurity работает лучше?"
   ]
  },
  {
   "cell_type": "code",
   "execution_count": 14,
   "metadata": {
    "collapsed": false
   },
   "outputs": [
    {
     "name": "stdout",
     "output_type": "stream",
     "text": [
      "             precision    recall  f1-score   support\n",
      "\n",
      "          0       1.00      1.00      1.00      1977\n",
      "          1       1.00      1.00      1.00      2085\n",
      "\n",
      "avg / total       1.00      1.00      1.00      4062\n",
      "\n",
      "             precision    recall  f1-score   support\n",
      "\n",
      "          0       1.00      1.00      1.00      1977\n",
      "          1       1.00      1.00      1.00      2085\n",
      "\n",
      "avg / total       1.00      1.00      1.00      4062\n",
      "\n"
     ]
    }
   ],
   "source": [
    "X_train, X_test, Y_train, Y_test = cv.train_test_split(X, Y, test_size=0.5, random_state=42)\n",
    "\n",
    "# TODO use st.DecisionTreeClassifier with gini\n",
    "clf = st.DecisionTreeClassifier()\n",
    "clf.fit(X_train, Y_train)\n",
    "Y_pred = clf.predict(X_test)\n",
    "print sm.classification_report(Y_test, Y_pred)\n",
    "\n",
    "# TODO use st.DecisionTreeClassifier with entropy\n",
    "clf2 = st.DecisionTreeClassifier(criterion='entropy')\n",
    "clf2.fit(X_train, Y_train)\n",
    "Y_pred = clf2.predict(X_test)\n",
    "print sm.classification_report(Y_test, Y_pred)"
   ]
  },
  {
   "cell_type": "markdown",
   "metadata": {},
   "source": [
    "Нарисуем полученное дерево. Какие правила соответствуют ядовитым, а какие съедобным грибам? Какие признаки лучше всего разделяют выборку?"
   ]
  },
  {
   "cell_type": "code",
   "execution_count": 15,
   "metadata": {
    "collapsed": false
   },
   "outputs": [
    {
     "data": {
      "text/html": [
       "<iframe src=tree.pdf width=960 height=320></iframe>"
      ],
      "text/latex": [
       "\\includegraphics[width=1.0\\textwidth]{tree.pdf}"
      ],
      "text/plain": [
       "<__main__.PDF at 0x1184076d0>"
      ]
     },
     "execution_count": 15,
     "metadata": {},
     "output_type": "execute_result"
    }
   ],
   "source": [
    "dot_data = sx.StringIO() \n",
    "st.export_graphviz(clf, out_file=dot_data) \n",
    "graph = pydot.graph_from_dot_data(dot_data.getvalue()) \n",
    "graph.write_pdf(\"tree.pdf\")\n",
    "\n",
    "PDF(\"tree.pdf\", size=(960, 320))"
   ]
  },
  {
   "cell_type": "code",
   "execution_count": 16,
   "metadata": {
    "collapsed": false
   },
   "outputs": [
    {
     "data": {
      "text/html": [
       "<iframe src=tree.pdf width=960 height=320></iframe>"
      ],
      "text/latex": [
       "\\includegraphics[width=1.0\\textwidth]{tree.pdf}"
      ],
      "text/plain": [
       "<__main__.PDF at 0x117511e50>"
      ]
     },
     "execution_count": 16,
     "metadata": {},
     "output_type": "execute_result"
    }
   ],
   "source": [
    "dot_data = sx.StringIO() \n",
    "st.export_graphviz(clf2, out_file=dot_data) \n",
    "graph = pydot.graph_from_dot_data(dot_data.getvalue()) \n",
    "graph.write_pdf(\"tree.pdf\")\n",
    "\n",
    "PDF(\"tree.pdf\", size=(960, 320))"
   ]
  },
  {
   "cell_type": "markdown",
   "metadata": {
    "collapsed": false
   },
   "source": [
    "### Глубина дерева и переобучение\n",
    "\n",
    "Для того чтобы исследовать, насколько качество модели зависит от глубины дерева, постройте графики зависимости ошибки классификации на тренировочной и тестовой подвыборках от глубины дерева. Какая глубина является оптимальной?"
   ]
  },
  {
   "cell_type": "code",
   "execution_count": 19,
   "metadata": {
    "collapsed": false
   },
   "outputs": [
    {
     "data": {
      "image/png": "[encoded data removed]",
      "text/plain": [
       "<matplotlib.figure.Figure at 0x11827f650>"
      ]
     },
     "metadata": {},
     "output_type": "display_data"
    }
   ],
   "source": [
    "ks = np.arange(1, 22)\n",
    "train_err = np.zeros(ks.shape[0])\n",
    "test_err = np.zeros(ks.shape[0])\n",
    "\n",
    "# TODO calculate train and test error on different depth\n",
    "for k in ks:\n",
    "    clf = st.DecisionTreeClassifier(max_depth=k)\n",
    "    clf.fit(X_train, Y_train)\n",
    "    Y_pred = clf.predict(X_train)\n",
    "    train_err[k-1] = sum(Y_train != Y_pred)\n",
    "    Y_pred = clf.predict(X_test)\n",
    "    test_err[k-1] = sum(Y_test != Y_pred)\n",
    "\n",
    "pl.figure(figsize=(10, 10))\n",
    "pl.plot(ks, train_err, 'b', label=\"train\")\n",
    "pl.plot(ks, test_err, 'r', label=\"test\")\n",
    "pl.xlabel(\"Tree depth\")\n",
    "pl.ylabel(\"Error\")\n",
    "pl.legend()\n",
    "pl.show()"
   ]
  },
  {
   "cell_type": "markdown",
   "metadata": {},
   "source": [
    "### Чувствительность дерева решений к шуму\n",
    "\n",
    "Исследуем, насколько небольшие изменения в данных влияют на конфигурацию полученного дерева решений. С маленькой вероятностью изменим значение каждого признака каждого объекта на значение этого же признака следующего объекта. Постройте дерево решений для новой \"зашумленной\" выборки. Отличается ли оно от дерева, построенного для исходной? Повторите эксперимент несколько раз."
   ]
  },
  {
   "cell_type": "code",
   "execution_count": 22,
   "metadata": {
    "collapsed": false
   },
   "outputs": [
    {
     "data": {
      "text/html": [
       "<iframe src=noiseless_tree.pdf width=960 height=320></iframe>"
      ],
      "text/latex": [
       "\\includegraphics[width=1.0\\textwidth]{noiseless_tree.pdf}"
      ],
      "text/plain": [
       "<__main__.PDF at 0x11773d450>"
      ]
     },
     "execution_count": 22,
     "metadata": {},
     "output_type": "execute_result"
    }
   ],
   "source": [
    "p = 1e-2\n",
    "max_depth = 5\n",
    "\n",
    "X_noisy_train = np.copy(X_train)\n",
    "\n",
    "mask = np.random.random_sample(X_noisy_train.shape) < p\n",
    "for (i, j), val in np.ndenumerate(mask):\n",
    "    if val:\n",
    "        X_noisy_train[i, j] = X_noisy_train[(i+1)%X_noisy_train.shape[0], j]\n",
    "\n",
    "# Train and save noiseless tree\n",
    "clf = st.DecisionTreeClassifier(max_depth=max_depth)\n",
    "clf.fit(X_train, Y_train)\n",
    "\n",
    "dot_data = sx.StringIO() \n",
    "st.export_graphviz(clf, out_file=dot_data) \n",
    "graph = pydot.graph_from_dot_data(dot_data.getvalue()) \n",
    "graph.write_pdf(\"noiseless_tree.pdf\")\n",
    "PDF(\"noiseless_tree.pdf\", size=(960, 320))"
   ]
  },
  {
   "cell_type": "code",
   "execution_count": 23,
   "metadata": {
    "collapsed": false
   },
   "outputs": [
    {
     "data": {
      "text/html": [
       "<iframe src=noisy_tree.pdf width=960 height=320></iframe>"
      ],
      "text/latex": [
       "\\includegraphics[width=1.0\\textwidth]{noisy_tree.pdf}"
      ],
      "text/plain": [
       "<__main__.PDF at 0x1183402d0>"
      ]
     },
     "execution_count": 23,
     "metadata": {},
     "output_type": "execute_result"
    }
   ],
   "source": [
    "# Train and save noisy tree\n",
    "clf = st.DecisionTreeClassifier(max_depth=max_depth)\n",
    "clf.fit(X_noisy_train, Y_train)\n",
    "\n",
    "dot_data = sx.StringIO() \n",
    "st.export_graphviz(clf, out_file=dot_data) \n",
    "graph = pydot.graph_from_dot_data(dot_data.getvalue()) \n",
    "graph.write_pdf(\"noisy_tree.pdf\")\n",
    "PDF(\"noisy_tree.pdf\", size=(960, 320))"
   ]
  },
  {
   "cell_type": "markdown",
   "metadata": {},
   "source": [
    "### Классификация грибов\n",
    "\n",
    "Подберите параметры классификатора так, чтобы получить наилучший результат классификации среди своих коллег. Для оценки качества модели используйте точность (accuracy) и 10-fold кросс-валидацию. Победитель сможет сам выбрать понравившийся вариант в пятом ДЗ, при условии успешного выполнения всех пунктов этого туториала. При одинаковых результатах побеждает первый."
   ]
  },
  {
   "cell_type": "code",
   "execution_count": 35,
   "metadata": {
    "collapsed": false
   },
   "outputs": [
    {
     "name": "stdout",
     "output_type": "stream",
     "text": [
      "CV Accuracy: Mean=1.000, Std=0.000\n",
      "CV Accuracy: Mean=0.999, Std=0.004\n",
      "CV Accuracy: Mean=1.000, Std=0.000\n"
     ]
    }
   ],
   "source": [
    "# TODO: select best parameters of the tree\n",
    "features = [\"sqrt\", \"log2\", None]\n",
    "for feature in features:\n",
    "    clf = st.DecisionTreeClassifier(max_features=feature)\n",
    "    scores = cv.cross_val_score(clf, X, Y, cv=20)\n",
    "    print \"CV Accuracy: Mean=%.3f, Std=%.3f\" % (scores.mean(), scores.std())"
   ]
  },
  {
   "cell_type": "code",
   "execution_count": 26,
   "metadata": {
    "collapsed": false
   },
   "outputs": [
    {
     "data": {
      "text/html": [
       "<img src=\"http://cdn.cpnscdn.com/static.coupons.com/ext/kitchme/images/recipes/600x400/cream-of-mushroom-soup-weight-watchers_26231.jpg\" width=400 height=300/>"
      ],
      "text/plain": [
       "<IPython.core.display.HTML object>"
      ]
     },
     "execution_count": 26,
     "metadata": {},
     "output_type": "execute_result"
    }
   ],
   "source": [
    "HTML('<img src=\"http://cdn.cpnscdn.com/static.coupons.com/ext/kitchme/images/recipes/600x400/cream-of-mushroom-soup-weight-watchers_26231.jpg\" width=400 height=300/>') "
   ]
  },
  {
   "cell_type": "markdown",
   "metadata": {},
   "source": [
    "Спасибо за внимание!"
   ]
  },
  {
   "cell_type": "code",
   "execution_count": null,
   "metadata": {
    "collapsed": true
   },
   "outputs": [],
   "source": []
  }
 ],
 "metadata": {
  "kernelspec": {
   "display_name": "Python 2",
   "language": "python",
   "name": "python2"
  },
  "language_info": {
   "codemirror_mode": {
    "name": "ipython",
    "version": 2
   },
   "file_extension": ".py",
   "mimetype": "text/x-python",
   "name": "python",
   "nbconvert_exporter": "python",
   "pygments_lexer": "ipython2",
   "version": "2.7.11"
  }
 },
 "nbformat": 4,
 "nbformat_minor": 0
}
